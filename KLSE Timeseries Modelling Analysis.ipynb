{
 "cells": [
  {
   "cell_type": "code",
   "execution_count": 1,
   "id": "b132773a",
   "metadata": {},
   "outputs": [
    {
     "data": {
      "text/html": [
       "<div>\n",
       "<style scoped>\n",
       "    .dataframe tbody tr th:only-of-type {\n",
       "        vertical-align: middle;\n",
       "    }\n",
       "\n",
       "    .dataframe tbody tr th {\n",
       "        vertical-align: top;\n",
       "    }\n",
       "\n",
       "    .dataframe thead th {\n",
       "        text-align: right;\n",
       "    }\n",
       "</style>\n",
       "<table border=\"1\" class=\"dataframe\">\n",
       "  <thead>\n",
       "    <tr style=\"text-align: right;\">\n",
       "      <th></th>\n",
       "      <th>Date</th>\n",
       "      <th>Open</th>\n",
       "      <th>High</th>\n",
       "      <th>Low</th>\n",
       "      <th>Close</th>\n",
       "      <th>Adj Close</th>\n",
       "      <th>Volume</th>\n",
       "    </tr>\n",
       "  </thead>\n",
       "  <tbody>\n",
       "    <tr>\n",
       "      <th>0</th>\n",
       "      <td>1993-12-03</td>\n",
       "      <td>1018.729980</td>\n",
       "      <td>1027.410034</td>\n",
       "      <td>1018.729980</td>\n",
       "      <td>1023.919983</td>\n",
       "      <td>1023.919983</td>\n",
       "      <td>0.0</td>\n",
       "    </tr>\n",
       "    <tr>\n",
       "      <th>1</th>\n",
       "      <td>1993-12-06</td>\n",
       "      <td>1027.680054</td>\n",
       "      <td>1041.109985</td>\n",
       "      <td>1027.680054</td>\n",
       "      <td>1041.109985</td>\n",
       "      <td>1041.109985</td>\n",
       "      <td>0.0</td>\n",
       "    </tr>\n",
       "    <tr>\n",
       "      <th>2</th>\n",
       "      <td>1993-12-07</td>\n",
       "      <td>1046.089966</td>\n",
       "      <td>1063.250000</td>\n",
       "      <td>1046.089966</td>\n",
       "      <td>1063.250000</td>\n",
       "      <td>1063.250000</td>\n",
       "      <td>0.0</td>\n",
       "    </tr>\n",
       "    <tr>\n",
       "      <th>3</th>\n",
       "      <td>1993-12-08</td>\n",
       "      <td>1064.800049</td>\n",
       "      <td>1071.020020</td>\n",
       "      <td>1060.250000</td>\n",
       "      <td>1060.790039</td>\n",
       "      <td>1060.790039</td>\n",
       "      <td>0.0</td>\n",
       "    </tr>\n",
       "    <tr>\n",
       "      <th>4</th>\n",
       "      <td>1993-12-09</td>\n",
       "      <td>1059.939941</td>\n",
       "      <td>1067.339966</td>\n",
       "      <td>1058.180054</td>\n",
       "      <td>1067.339966</td>\n",
       "      <td>1067.339966</td>\n",
       "      <td>0.0</td>\n",
       "    </tr>\n",
       "    <tr>\n",
       "      <th>5</th>\n",
       "      <td>1993-12-10</td>\n",
       "      <td>1069.609985</td>\n",
       "      <td>1082.589966</td>\n",
       "      <td>1069.609985</td>\n",
       "      <td>1075.849976</td>\n",
       "      <td>1075.849976</td>\n",
       "      <td>0.0</td>\n",
       "    </tr>\n",
       "    <tr>\n",
       "      <th>6</th>\n",
       "      <td>1993-12-13</td>\n",
       "      <td>1082.729980</td>\n",
       "      <td>1097.979980</td>\n",
       "      <td>1080.229980</td>\n",
       "      <td>1090.349976</td>\n",
       "      <td>1090.349976</td>\n",
       "      <td>0.0</td>\n",
       "    </tr>\n",
       "    <tr>\n",
       "      <th>7</th>\n",
       "      <td>1993-12-14</td>\n",
       "      <td>1092.750000</td>\n",
       "      <td>1096.609985</td>\n",
       "      <td>1085.640015</td>\n",
       "      <td>1092.660034</td>\n",
       "      <td>1092.660034</td>\n",
       "      <td>0.0</td>\n",
       "    </tr>\n",
       "    <tr>\n",
       "      <th>8</th>\n",
       "      <td>1993-12-15</td>\n",
       "      <td>1104.459961</td>\n",
       "      <td>1119.829956</td>\n",
       "      <td>1104.459961</td>\n",
       "      <td>1116.089966</td>\n",
       "      <td>1116.089966</td>\n",
       "      <td>0.0</td>\n",
       "    </tr>\n",
       "    <tr>\n",
       "      <th>9</th>\n",
       "      <td>1993-12-16</td>\n",
       "      <td>1119.479980</td>\n",
       "      <td>1120.400024</td>\n",
       "      <td>1104.339966</td>\n",
       "      <td>1112.589966</td>\n",
       "      <td>1112.589966</td>\n",
       "      <td>0.0</td>\n",
       "    </tr>\n",
       "  </tbody>\n",
       "</table>\n",
       "</div>"
      ],
      "text/plain": [
       "         Date         Open         High          Low        Close  \\\n",
       "0  1993-12-03  1018.729980  1027.410034  1018.729980  1023.919983   \n",
       "1  1993-12-06  1027.680054  1041.109985  1027.680054  1041.109985   \n",
       "2  1993-12-07  1046.089966  1063.250000  1046.089966  1063.250000   \n",
       "3  1993-12-08  1064.800049  1071.020020  1060.250000  1060.790039   \n",
       "4  1993-12-09  1059.939941  1067.339966  1058.180054  1067.339966   \n",
       "5  1993-12-10  1069.609985  1082.589966  1069.609985  1075.849976   \n",
       "6  1993-12-13  1082.729980  1097.979980  1080.229980  1090.349976   \n",
       "7  1993-12-14  1092.750000  1096.609985  1085.640015  1092.660034   \n",
       "8  1993-12-15  1104.459961  1119.829956  1104.459961  1116.089966   \n",
       "9  1993-12-16  1119.479980  1120.400024  1104.339966  1112.589966   \n",
       "\n",
       "     Adj Close  Volume  \n",
       "0  1023.919983     0.0  \n",
       "1  1041.109985     0.0  \n",
       "2  1063.250000     0.0  \n",
       "3  1060.790039     0.0  \n",
       "4  1067.339966     0.0  \n",
       "5  1075.849976     0.0  \n",
       "6  1090.349976     0.0  \n",
       "7  1092.660034     0.0  \n",
       "8  1116.089966     0.0  \n",
       "9  1112.589966     0.0  "
      ]
     },
     "execution_count": 1,
     "metadata": {},
     "output_type": "execute_result"
    }
   ],
   "source": [
    "import pandas as pd\n",
    "import matplotlib.pyplot as plt\n",
    "\n",
    "df_klse = pd.read_csv('C:/Users/MUHAMAD NAIM BIN ZOL/Data Science Project/FTSE-Bursa-Malaysia-Hijrah-Shariah vs KLSE/KLSE.csv')\n",
    "df_klse.head(10)\n",
    "\n"
   ]
  },
  {
   "cell_type": "code",
   "execution_count": 2,
   "id": "130eff0b",
   "metadata": {},
   "outputs": [
    {
     "data": {
      "text/plain": [
       "str"
      ]
     },
     "execution_count": 2,
     "metadata": {},
     "output_type": "execute_result"
    }
   ],
   "source": [
    "type(df_klse.Date[0])"
   ]
  },
  {
   "cell_type": "markdown",
   "id": "f0dfacfe",
   "metadata": {},
   "source": [
    "# Converting Date Column from String to DatetimeIndex"
   ]
  },
  {
   "cell_type": "code",
   "execution_count": 3,
   "id": "c42cf941",
   "metadata": {},
   "outputs": [],
   "source": [
    "df1_klse = pd.read_csv('C:/Users/MUHAMAD NAIM BIN ZOL/Data Science Project/FTSE-Bursa-Malaysia-Hijrah-Shariah vs KLSE/KLSE.csv', parse_dates=['Date'])\n"
   ]
  },
  {
   "cell_type": "code",
   "execution_count": 4,
   "id": "48d359e2",
   "metadata": {},
   "outputs": [
    {
     "data": {
      "text/plain": [
       "pandas._libs.tslibs.timestamps.Timestamp"
      ]
     },
     "execution_count": 4,
     "metadata": {},
     "output_type": "execute_result"
    }
   ],
   "source": [
    "type(df1_klse.Date[0])"
   ]
  },
  {
   "cell_type": "markdown",
   "id": "1bfad72f",
   "metadata": {},
   "source": [
    "Changing the Date Column into an Index in a DataFrame"
   ]
  },
  {
   "cell_type": "code",
   "execution_count": 5,
   "id": "00851951",
   "metadata": {},
   "outputs": [],
   "source": [
    "df2_klse = pd.read_csv('C:/Users/MUHAMAD NAIM BIN ZOL/Data Science Project/FTSE-Bursa-Malaysia-Hijrah-Shariah vs KLSE/KLSE.csv', parse_dates=['Date'], index_col='Date')\n"
   ]
  },
  {
   "cell_type": "code",
   "execution_count": 6,
   "id": "d68c3514",
   "metadata": {},
   "outputs": [
    {
     "data": {
      "text/plain": [
       "(7708, 6)"
      ]
     },
     "execution_count": 6,
     "metadata": {},
     "output_type": "execute_result"
    }
   ],
   "source": [
    "df2_klse.shape"
   ]
  },
  {
   "cell_type": "code",
   "execution_count": 7,
   "id": "1fd403b8",
   "metadata": {},
   "outputs": [
    {
     "data": {
      "text/plain": [
       "DatetimeIndex(['1993-12-03', '1993-12-06', '1993-12-07', '1993-12-08',\n",
       "               '1993-12-09', '1993-12-10', '1993-12-13', '1993-12-14',\n",
       "               '1993-12-15', '1993-12-16',\n",
       "               ...\n",
       "               '2024-06-12', '2024-06-13', '2024-06-14', '2024-06-18',\n",
       "               '2024-06-19', '2024-06-20', '2024-06-21', '2024-06-24',\n",
       "               '2024-06-25', '2024-06-26'],\n",
       "              dtype='datetime64[ns]', name='Date', length=7708, freq=None)"
      ]
     },
     "execution_count": 7,
     "metadata": {},
     "output_type": "execute_result"
    }
   ],
   "source": [
    "df2_klse.index"
   ]
  },
  {
   "cell_type": "code",
   "execution_count": 8,
   "id": "e625c32c",
   "metadata": {},
   "outputs": [
    {
     "data": {
      "text/html": [
       "<div>\n",
       "<style scoped>\n",
       "    .dataframe tbody tr th:only-of-type {\n",
       "        vertical-align: middle;\n",
       "    }\n",
       "\n",
       "    .dataframe tbody tr th {\n",
       "        vertical-align: top;\n",
       "    }\n",
       "\n",
       "    .dataframe thead th {\n",
       "        text-align: right;\n",
       "    }\n",
       "</style>\n",
       "<table border=\"1\" class=\"dataframe\">\n",
       "  <thead>\n",
       "    <tr style=\"text-align: right;\">\n",
       "      <th></th>\n",
       "      <th>Open</th>\n",
       "      <th>High</th>\n",
       "      <th>Low</th>\n",
       "      <th>Close</th>\n",
       "      <th>Adj Close</th>\n",
       "      <th>Volume</th>\n",
       "    </tr>\n",
       "    <tr>\n",
       "      <th>Date</th>\n",
       "      <th></th>\n",
       "      <th></th>\n",
       "      <th></th>\n",
       "      <th></th>\n",
       "      <th></th>\n",
       "      <th></th>\n",
       "    </tr>\n",
       "  </thead>\n",
       "  <tbody>\n",
       "    <tr>\n",
       "      <th>2015-01-05</th>\n",
       "      <td>1758.430054</td>\n",
       "      <td>1759.150024</td>\n",
       "      <td>1734.510010</td>\n",
       "      <td>1736.619995</td>\n",
       "      <td>1736.619995</td>\n",
       "      <td>98141200.0</td>\n",
       "    </tr>\n",
       "    <tr>\n",
       "      <th>2015-01-06</th>\n",
       "      <td>1730.939941</td>\n",
       "      <td>1730.939941</td>\n",
       "      <td>1708.780029</td>\n",
       "      <td>1716.579956</td>\n",
       "      <td>1716.579956</td>\n",
       "      <td>146055300.0</td>\n",
       "    </tr>\n",
       "    <tr>\n",
       "      <th>2015-01-07</th>\n",
       "      <td>1714.699951</td>\n",
       "      <td>1717.170044</td>\n",
       "      <td>1706.180054</td>\n",
       "      <td>1709.180054</td>\n",
       "      <td>1709.180054</td>\n",
       "      <td>171015600.0</td>\n",
       "    </tr>\n",
       "    <tr>\n",
       "      <th>2015-01-08</th>\n",
       "      <td>1714.400024</td>\n",
       "      <td>1730.180054</td>\n",
       "      <td>1714.020020</td>\n",
       "      <td>1728.060059</td>\n",
       "      <td>1728.060059</td>\n",
       "      <td>121085200.0</td>\n",
       "    </tr>\n",
       "    <tr>\n",
       "      <th>2015-01-09</th>\n",
       "      <td>1734.609985</td>\n",
       "      <td>1738.540039</td>\n",
       "      <td>1725.810059</td>\n",
       "      <td>1732.439941</td>\n",
       "      <td>1732.439941</td>\n",
       "      <td>126253700.0</td>\n",
       "    </tr>\n",
       "    <tr>\n",
       "      <th>2015-01-12</th>\n",
       "      <td>1730.099976</td>\n",
       "      <td>1735.079956</td>\n",
       "      <td>1718.760010</td>\n",
       "      <td>1735.079956</td>\n",
       "      <td>1735.079956</td>\n",
       "      <td>95901300.0</td>\n",
       "    </tr>\n",
       "    <tr>\n",
       "      <th>2015-01-13</th>\n",
       "      <td>1726.540039</td>\n",
       "      <td>1750.160034</td>\n",
       "      <td>1725.979980</td>\n",
       "      <td>1748.900024</td>\n",
       "      <td>1748.900024</td>\n",
       "      <td>147553800.0</td>\n",
       "    </tr>\n",
       "    <tr>\n",
       "      <th>2015-01-14</th>\n",
       "      <td>1742.660034</td>\n",
       "      <td>1744.709961</td>\n",
       "      <td>1736.770020</td>\n",
       "      <td>1742.010010</td>\n",
       "      <td>1742.010010</td>\n",
       "      <td>182004300.0</td>\n",
       "    </tr>\n",
       "    <tr>\n",
       "      <th>2015-01-15</th>\n",
       "      <td>1747.540039</td>\n",
       "      <td>1750.939941</td>\n",
       "      <td>1738.239990</td>\n",
       "      <td>1745.000000</td>\n",
       "      <td>1745.000000</td>\n",
       "      <td>182936200.0</td>\n",
       "    </tr>\n",
       "    <tr>\n",
       "      <th>2015-01-16</th>\n",
       "      <td>1740.189941</td>\n",
       "      <td>1746.239990</td>\n",
       "      <td>1732.349976</td>\n",
       "      <td>1743.569946</td>\n",
       "      <td>1743.569946</td>\n",
       "      <td>153211200.0</td>\n",
       "    </tr>\n",
       "    <tr>\n",
       "      <th>2015-01-19</th>\n",
       "      <td>1745.500000</td>\n",
       "      <td>1755.119995</td>\n",
       "      <td>1745.500000</td>\n",
       "      <td>1753.310059</td>\n",
       "      <td>1753.310059</td>\n",
       "      <td>130847300.0</td>\n",
       "    </tr>\n",
       "    <tr>\n",
       "      <th>2015-01-20</th>\n",
       "      <td>1754.209961</td>\n",
       "      <td>1754.339966</td>\n",
       "      <td>1745.640015</td>\n",
       "      <td>1750.109985</td>\n",
       "      <td>1750.109985</td>\n",
       "      <td>123144400.0</td>\n",
       "    </tr>\n",
       "    <tr>\n",
       "      <th>2015-01-21</th>\n",
       "      <td>1752.900024</td>\n",
       "      <td>1770.089966</td>\n",
       "      <td>1751.459961</td>\n",
       "      <td>1770.089966</td>\n",
       "      <td>1770.089966</td>\n",
       "      <td>173119700.0</td>\n",
       "    </tr>\n",
       "    <tr>\n",
       "      <th>2015-01-22</th>\n",
       "      <td>1767.739990</td>\n",
       "      <td>1787.910034</td>\n",
       "      <td>1763.680054</td>\n",
       "      <td>1781.750000</td>\n",
       "      <td>1781.750000</td>\n",
       "      <td>212420500.0</td>\n",
       "    </tr>\n",
       "    <tr>\n",
       "      <th>2015-01-23</th>\n",
       "      <td>1792.469971</td>\n",
       "      <td>1809.329956</td>\n",
       "      <td>1788.780029</td>\n",
       "      <td>1803.079956</td>\n",
       "      <td>1803.079956</td>\n",
       "      <td>213716000.0</td>\n",
       "    </tr>\n",
       "    <tr>\n",
       "      <th>2015-01-26</th>\n",
       "      <td>1800.489990</td>\n",
       "      <td>1801.060059</td>\n",
       "      <td>1792.650024</td>\n",
       "      <td>1796.439941</td>\n",
       "      <td>1796.439941</td>\n",
       "      <td>131380100.0</td>\n",
       "    </tr>\n",
       "    <tr>\n",
       "      <th>2015-01-27</th>\n",
       "      <td>1789.959961</td>\n",
       "      <td>1810.209961</td>\n",
       "      <td>1788.550049</td>\n",
       "      <td>1803.170044</td>\n",
       "      <td>1803.170044</td>\n",
       "      <td>171841200.0</td>\n",
       "    </tr>\n",
       "    <tr>\n",
       "      <th>2015-01-28</th>\n",
       "      <td>1794.760010</td>\n",
       "      <td>1800.640015</td>\n",
       "      <td>1790.020020</td>\n",
       "      <td>1795.880005</td>\n",
       "      <td>1795.880005</td>\n",
       "      <td>155963200.0</td>\n",
       "    </tr>\n",
       "    <tr>\n",
       "      <th>2015-01-29</th>\n",
       "      <td>1791.589966</td>\n",
       "      <td>1794.819946</td>\n",
       "      <td>1779.170044</td>\n",
       "      <td>1782.180054</td>\n",
       "      <td>1782.180054</td>\n",
       "      <td>164067800.0</td>\n",
       "    </tr>\n",
       "    <tr>\n",
       "      <th>2015-01-30</th>\n",
       "      <td>1788.359985</td>\n",
       "      <td>1789.390015</td>\n",
       "      <td>1781.260010</td>\n",
       "      <td>1781.260010</td>\n",
       "      <td>1781.260010</td>\n",
       "      <td>161401900.0</td>\n",
       "    </tr>\n",
       "  </tbody>\n",
       "</table>\n",
       "</div>"
      ],
      "text/plain": [
       "                   Open         High          Low        Close    Adj Close  \\\n",
       "Date                                                                          \n",
       "2015-01-05  1758.430054  1759.150024  1734.510010  1736.619995  1736.619995   \n",
       "2015-01-06  1730.939941  1730.939941  1708.780029  1716.579956  1716.579956   \n",
       "2015-01-07  1714.699951  1717.170044  1706.180054  1709.180054  1709.180054   \n",
       "2015-01-08  1714.400024  1730.180054  1714.020020  1728.060059  1728.060059   \n",
       "2015-01-09  1734.609985  1738.540039  1725.810059  1732.439941  1732.439941   \n",
       "2015-01-12  1730.099976  1735.079956  1718.760010  1735.079956  1735.079956   \n",
       "2015-01-13  1726.540039  1750.160034  1725.979980  1748.900024  1748.900024   \n",
       "2015-01-14  1742.660034  1744.709961  1736.770020  1742.010010  1742.010010   \n",
       "2015-01-15  1747.540039  1750.939941  1738.239990  1745.000000  1745.000000   \n",
       "2015-01-16  1740.189941  1746.239990  1732.349976  1743.569946  1743.569946   \n",
       "2015-01-19  1745.500000  1755.119995  1745.500000  1753.310059  1753.310059   \n",
       "2015-01-20  1754.209961  1754.339966  1745.640015  1750.109985  1750.109985   \n",
       "2015-01-21  1752.900024  1770.089966  1751.459961  1770.089966  1770.089966   \n",
       "2015-01-22  1767.739990  1787.910034  1763.680054  1781.750000  1781.750000   \n",
       "2015-01-23  1792.469971  1809.329956  1788.780029  1803.079956  1803.079956   \n",
       "2015-01-26  1800.489990  1801.060059  1792.650024  1796.439941  1796.439941   \n",
       "2015-01-27  1789.959961  1810.209961  1788.550049  1803.170044  1803.170044   \n",
       "2015-01-28  1794.760010  1800.640015  1790.020020  1795.880005  1795.880005   \n",
       "2015-01-29  1791.589966  1794.819946  1779.170044  1782.180054  1782.180054   \n",
       "2015-01-30  1788.359985  1789.390015  1781.260010  1781.260010  1781.260010   \n",
       "\n",
       "                 Volume  \n",
       "Date                     \n",
       "2015-01-05   98141200.0  \n",
       "2015-01-06  146055300.0  \n",
       "2015-01-07  171015600.0  \n",
       "2015-01-08  121085200.0  \n",
       "2015-01-09  126253700.0  \n",
       "2015-01-12   95901300.0  \n",
       "2015-01-13  147553800.0  \n",
       "2015-01-14  182004300.0  \n",
       "2015-01-15  182936200.0  \n",
       "2015-01-16  153211200.0  \n",
       "2015-01-19  130847300.0  \n",
       "2015-01-20  123144400.0  \n",
       "2015-01-21  173119700.0  \n",
       "2015-01-22  212420500.0  \n",
       "2015-01-23  213716000.0  \n",
       "2015-01-26  131380100.0  \n",
       "2015-01-27  171841200.0  \n",
       "2015-01-28  155963200.0  \n",
       "2015-01-29  164067800.0  \n",
       "2015-01-30  161401900.0  "
      ]
     },
     "execution_count": 8,
     "metadata": {},
     "output_type": "execute_result"
    }
   ],
   "source": [
    "df2_klse.loc['2015-01-03':'2015-02-03']"
   ]
  },
  {
   "cell_type": "markdown",
   "id": "75f5f7a5",
   "metadata": {},
   "source": [
    "# Resampling Time Series Data and Plotting"
   ]
  },
  {
   "cell_type": "markdown",
   "id": "e9a9b3e6",
   "metadata": {},
   "source": [
    "Purpose of Resampling\n",
    "1. Downsampling\n",
    "\n",
    "Downsampling involves reducing the frequency of the time series data. For example, converting daily data to monthly data by aggregating the daily values.\n",
    "\n",
    "2. Upsampling\n",
    "\n",
    "Upsampling involves increasing the frequency of the time series data. For example, converting monthly data to daily data by interpolating the missing values."
   ]
  },
  {
   "cell_type": "code",
   "execution_count": 9,
   "id": "6e1e211c",
   "metadata": {},
   "outputs": [
    {
     "data": {
      "text/plain": [
       "<Axes: xlabel='Date'>"
      ]
     },
     "execution_count": 9,
     "metadata": {},
     "output_type": "execute_result"
    },
    {
     "data": {
      "image/png": "[encoded data removed]",
      "text/plain": [
       "<Figure size 640x480 with 1 Axes>"
      ]
     },
     "metadata": {},
     "output_type": "display_data"
    }
   ],
   "source": [
    "%matplotlib inline\n",
    "df2_klse.Close.resample('D').mean().plot(kind='bar')"
   ]
  },
  {
   "cell_type": "code",
   "execution_count": 10,
   "id": "2a50e014",
   "metadata": {},
   "outputs": [
    {
     "data": {
      "image/png": "[encoded data removed]",
      "text/plain": [
       "<Figure size 1400x700 with 1 Axes>"
      ]
     },
     "metadata": {},
     "output_type": "display_data"
    }
   ],
   "source": [
    "import matplotlib.pyplot as plt\n",
    "\n",
    "# Resample the data to daily frequency and calculate the mean\n",
    "daily_mean = df2_klse.Close.resample('D').mean()\n",
    "\n",
    "# Plot the data as a bar chart\n",
    "ax = daily_mean.plot(kind='bar', figsize=(14, 7))\n",
    "\n",
    "# Set the title and labels\n",
    "ax.set_title('Daily Mean of Close Prices')\n",
    "ax.set_xlabel('Date')\n",
    "ax.set_ylabel('Mean Close Price')\n",
    "\n",
    "# Rotate the x-axis labels for better readability\n",
    "plt.xticks(rotation=45)\n",
    "\n",
    "# Adjust the x-axis label frequency to show fewer labels\n",
    "ax.xaxis.set_major_locator(plt.MaxNLocator(nbins=10))\n",
    "\n",
    "# Show the plot\n",
    "plt.show()\n"
   ]
  },
  {
   "cell_type": "markdown",
   "id": "d533f8a6",
   "metadata": {},
   "source": [
    "Plotting the Close Values in Time Series Data\n",
    "\n",
    "Why Plot the Close Values?\n",
    "\n",
    "1. End-of-Day Price\n",
    "The Close value represents the final price at which a stock was traded at the end of the trading day. It is often considered the most reliable indicator of a stock's daily performance because it reflects the price agreed upon by buyers and sellers as the market closes.\n",
    "\n",
    "2. Trend Analysis\n",
    "Analyzing the Close values over time helps identify trends and patterns in the stock's performance. Trends can be upward, downward, or sideways, and understanding these trends is essential for making informed investment decisions.\n",
    "\n",
    "4. Market Sentiment\n",
    "The Close value often reflects the overall sentiment of the market participants for that particular day. A higher close compared to the previous day might indicate bullish sentiment, while a lower close might suggest bearish sentiment."
   ]
  },
  {
   "cell_type": "code",
   "execution_count": 11,
   "id": "9fc1ecfd",
   "metadata": {},
   "outputs": [
    {
     "data": {
      "text/plain": [
       "<Axes: xlabel='Date'>"
      ]
     },
     "execution_count": 11,
     "metadata": {},
     "output_type": "execute_result"
    },
    {
     "data": {
      "image/png": "[encoded data removed]",
      "text/plain": [
       "<Figure size 640x480 with 1 Axes>"
      ]
     },
     "metadata": {},
     "output_type": "display_data"
    }
   ],
   "source": [
    "df2_klse.Close.plot()"
   ]
  },
  {
   "cell_type": "code",
   "execution_count": 12,
   "id": "d64df4dc",
   "metadata": {},
   "outputs": [
    {
     "data": {
      "text/plain": [
       "1505.380940421859"
      ]
     },
     "execution_count": 12,
     "metadata": {},
     "output_type": "execute_result"
    }
   ],
   "source": [
    "df2_klse[\"2020-01-01\":\"2023-12-31\"].Close.mean()"
   ]
  },
  {
   "cell_type": "markdown",
   "id": "84a1cfaa",
   "metadata": {},
   "source": [
    "# Understanding 'asfreq' with the 'pad' Method in Pandas"
   ]
  },
  {
   "cell_type": "markdown",
   "id": "a99b9b0a",
   "metadata": {},
   "source": [
    "The asfreq method in pandas is used to convert a time series to a specified frequency. It returns a new DataFrame with the specified frequency.\n",
    "\n",
    "* freq: The desired frequency. For example, 'D' for daily frequency.\n",
    "* method: The method to use for filling holes in reindexed DataFrame. Options are None, 'pad', or 'ffill'."
   ]
  },
  {
   "cell_type": "code",
   "execution_count": 13,
   "id": "6fd4097e",
   "metadata": {},
   "outputs": [
    {
     "data": {
      "text/html": [
       "<div>\n",
       "<style scoped>\n",
       "    .dataframe tbody tr th:only-of-type {\n",
       "        vertical-align: middle;\n",
       "    }\n",
       "\n",
       "    .dataframe tbody tr th {\n",
       "        vertical-align: top;\n",
       "    }\n",
       "\n",
       "    .dataframe thead th {\n",
       "        text-align: right;\n",
       "    }\n",
       "</style>\n",
       "<table border=\"1\" class=\"dataframe\">\n",
       "  <thead>\n",
       "    <tr style=\"text-align: right;\">\n",
       "      <th></th>\n",
       "      <th>Open</th>\n",
       "      <th>High</th>\n",
       "      <th>Low</th>\n",
       "      <th>Close</th>\n",
       "      <th>Adj Close</th>\n",
       "      <th>Volume</th>\n",
       "    </tr>\n",
       "    <tr>\n",
       "      <th>Date</th>\n",
       "      <th></th>\n",
       "      <th></th>\n",
       "      <th></th>\n",
       "      <th></th>\n",
       "      <th></th>\n",
       "      <th></th>\n",
       "    </tr>\n",
       "  </thead>\n",
       "  <tbody>\n",
       "    <tr>\n",
       "      <th>1993-12-03</th>\n",
       "      <td>1018.729980</td>\n",
       "      <td>1027.410034</td>\n",
       "      <td>1018.729980</td>\n",
       "      <td>1023.919983</td>\n",
       "      <td>1023.919983</td>\n",
       "      <td>0.0</td>\n",
       "    </tr>\n",
       "    <tr>\n",
       "      <th>1993-12-04</th>\n",
       "      <td>1018.729980</td>\n",
       "      <td>1027.410034</td>\n",
       "      <td>1018.729980</td>\n",
       "      <td>1023.919983</td>\n",
       "      <td>1023.919983</td>\n",
       "      <td>0.0</td>\n",
       "    </tr>\n",
       "    <tr>\n",
       "      <th>1993-12-05</th>\n",
       "      <td>1018.729980</td>\n",
       "      <td>1027.410034</td>\n",
       "      <td>1018.729980</td>\n",
       "      <td>1023.919983</td>\n",
       "      <td>1023.919983</td>\n",
       "      <td>0.0</td>\n",
       "    </tr>\n",
       "    <tr>\n",
       "      <th>1993-12-06</th>\n",
       "      <td>1027.680054</td>\n",
       "      <td>1041.109985</td>\n",
       "      <td>1027.680054</td>\n",
       "      <td>1041.109985</td>\n",
       "      <td>1041.109985</td>\n",
       "      <td>0.0</td>\n",
       "    </tr>\n",
       "    <tr>\n",
       "      <th>1993-12-07</th>\n",
       "      <td>1046.089966</td>\n",
       "      <td>1063.250000</td>\n",
       "      <td>1046.089966</td>\n",
       "      <td>1063.250000</td>\n",
       "      <td>1063.250000</td>\n",
       "      <td>0.0</td>\n",
       "    </tr>\n",
       "    <tr>\n",
       "      <th>...</th>\n",
       "      <td>...</td>\n",
       "      <td>...</td>\n",
       "      <td>...</td>\n",
       "      <td>...</td>\n",
       "      <td>...</td>\n",
       "      <td>...</td>\n",
       "    </tr>\n",
       "    <tr>\n",
       "      <th>2024-06-22</th>\n",
       "      <td>1593.410034</td>\n",
       "      <td>1598.160034</td>\n",
       "      <td>1590.000000</td>\n",
       "      <td>1590.369995</td>\n",
       "      <td>1590.369995</td>\n",
       "      <td>497243500.0</td>\n",
       "    </tr>\n",
       "    <tr>\n",
       "      <th>2024-06-23</th>\n",
       "      <td>1593.410034</td>\n",
       "      <td>1598.160034</td>\n",
       "      <td>1590.000000</td>\n",
       "      <td>1590.369995</td>\n",
       "      <td>1590.369995</td>\n",
       "      <td>497243500.0</td>\n",
       "    </tr>\n",
       "    <tr>\n",
       "      <th>2024-06-24</th>\n",
       "      <td>1589.869995</td>\n",
       "      <td>1594.089966</td>\n",
       "      <td>1582.780029</td>\n",
       "      <td>1589.660034</td>\n",
       "      <td>1589.660034</td>\n",
       "      <td>218922400.0</td>\n",
       "    </tr>\n",
       "    <tr>\n",
       "      <th>2024-06-25</th>\n",
       "      <td>1589.709961</td>\n",
       "      <td>1594.709961</td>\n",
       "      <td>1582.349976</td>\n",
       "      <td>1585.380005</td>\n",
       "      <td>1585.380005</td>\n",
       "      <td>229698100.0</td>\n",
       "    </tr>\n",
       "    <tr>\n",
       "      <th>2024-06-26</th>\n",
       "      <td>1589.709961</td>\n",
       "      <td>1593.420044</td>\n",
       "      <td>1581.760010</td>\n",
       "      <td>1590.949951</td>\n",
       "      <td>1590.949951</td>\n",
       "      <td>0.0</td>\n",
       "    </tr>\n",
       "  </tbody>\n",
       "</table>\n",
       "<p>11164 rows × 6 columns</p>\n",
       "</div>"
      ],
      "text/plain": [
       "                   Open         High          Low        Close    Adj Close  \\\n",
       "Date                                                                          \n",
       "1993-12-03  1018.729980  1027.410034  1018.729980  1023.919983  1023.919983   \n",
       "1993-12-04  1018.729980  1027.410034  1018.729980  1023.919983  1023.919983   \n",
       "1993-12-05  1018.729980  1027.410034  1018.729980  1023.919983  1023.919983   \n",
       "1993-12-06  1027.680054  1041.109985  1027.680054  1041.109985  1041.109985   \n",
       "1993-12-07  1046.089966  1063.250000  1046.089966  1063.250000  1063.250000   \n",
       "...                 ...          ...          ...          ...          ...   \n",
       "2024-06-22  1593.410034  1598.160034  1590.000000  1590.369995  1590.369995   \n",
       "2024-06-23  1593.410034  1598.160034  1590.000000  1590.369995  1590.369995   \n",
       "2024-06-24  1589.869995  1594.089966  1582.780029  1589.660034  1589.660034   \n",
       "2024-06-25  1589.709961  1594.709961  1582.349976  1585.380005  1585.380005   \n",
       "2024-06-26  1589.709961  1593.420044  1581.760010  1590.949951  1590.949951   \n",
       "\n",
       "                 Volume  \n",
       "Date                     \n",
       "1993-12-03          0.0  \n",
       "1993-12-04          0.0  \n",
       "1993-12-05          0.0  \n",
       "1993-12-06          0.0  \n",
       "1993-12-07          0.0  \n",
       "...                 ...  \n",
       "2024-06-22  497243500.0  \n",
       "2024-06-23  497243500.0  \n",
       "2024-06-24  218922400.0  \n",
       "2024-06-25  229698100.0  \n",
       "2024-06-26          0.0  \n",
       "\n",
       "[11164 rows x 6 columns]"
      ]
     },
     "execution_count": 13,
     "metadata": {},
     "output_type": "execute_result"
    }
   ],
   "source": [
    "df2_klse.asfreq('D', method = 'pad')"
   ]
  },
  {
   "cell_type": "code",
   "execution_count": 14,
   "id": "9be52894",
   "metadata": {},
   "outputs": [
    {
     "data": {
      "text/html": [
       "<div>\n",
       "<style scoped>\n",
       "    .dataframe tbody tr th:only-of-type {\n",
       "        vertical-align: middle;\n",
       "    }\n",
       "\n",
       "    .dataframe tbody tr th {\n",
       "        vertical-align: top;\n",
       "    }\n",
       "\n",
       "    .dataframe thead th {\n",
       "        text-align: right;\n",
       "    }\n",
       "</style>\n",
       "<table border=\"1\" class=\"dataframe\">\n",
       "  <thead>\n",
       "    <tr style=\"text-align: right;\">\n",
       "      <th></th>\n",
       "      <th>Open</th>\n",
       "      <th>High</th>\n",
       "      <th>Low</th>\n",
       "      <th>Close</th>\n",
       "      <th>Adj Close</th>\n",
       "      <th>Volume</th>\n",
       "    </tr>\n",
       "    <tr>\n",
       "      <th>Date</th>\n",
       "      <th></th>\n",
       "      <th></th>\n",
       "      <th></th>\n",
       "      <th></th>\n",
       "      <th></th>\n",
       "      <th></th>\n",
       "    </tr>\n",
       "  </thead>\n",
       "  <tbody>\n",
       "    <tr>\n",
       "      <th>1993-12-03</th>\n",
       "      <td>1018.729980</td>\n",
       "      <td>1027.410034</td>\n",
       "      <td>1018.729980</td>\n",
       "      <td>1023.919983</td>\n",
       "      <td>1023.919983</td>\n",
       "      <td>0.0</td>\n",
       "    </tr>\n",
       "    <tr>\n",
       "      <th>1993-12-06</th>\n",
       "      <td>1027.680054</td>\n",
       "      <td>1041.109985</td>\n",
       "      <td>1027.680054</td>\n",
       "      <td>1041.109985</td>\n",
       "      <td>1041.109985</td>\n",
       "      <td>0.0</td>\n",
       "    </tr>\n",
       "    <tr>\n",
       "      <th>1993-12-07</th>\n",
       "      <td>1046.089966</td>\n",
       "      <td>1063.250000</td>\n",
       "      <td>1046.089966</td>\n",
       "      <td>1063.250000</td>\n",
       "      <td>1063.250000</td>\n",
       "      <td>0.0</td>\n",
       "    </tr>\n",
       "    <tr>\n",
       "      <th>1993-12-08</th>\n",
       "      <td>1064.800049</td>\n",
       "      <td>1071.020020</td>\n",
       "      <td>1060.250000</td>\n",
       "      <td>1060.790039</td>\n",
       "      <td>1060.790039</td>\n",
       "      <td>0.0</td>\n",
       "    </tr>\n",
       "    <tr>\n",
       "      <th>1993-12-09</th>\n",
       "      <td>1059.939941</td>\n",
       "      <td>1067.339966</td>\n",
       "      <td>1058.180054</td>\n",
       "      <td>1067.339966</td>\n",
       "      <td>1067.339966</td>\n",
       "      <td>0.0</td>\n",
       "    </tr>\n",
       "    <tr>\n",
       "      <th>1993-12-10</th>\n",
       "      <td>1069.609985</td>\n",
       "      <td>1082.589966</td>\n",
       "      <td>1069.609985</td>\n",
       "      <td>1075.849976</td>\n",
       "      <td>1075.849976</td>\n",
       "      <td>0.0</td>\n",
       "    </tr>\n",
       "    <tr>\n",
       "      <th>1993-12-13</th>\n",
       "      <td>1082.729980</td>\n",
       "      <td>1097.979980</td>\n",
       "      <td>1080.229980</td>\n",
       "      <td>1090.349976</td>\n",
       "      <td>1090.349976</td>\n",
       "      <td>0.0</td>\n",
       "    </tr>\n",
       "    <tr>\n",
       "      <th>1993-12-14</th>\n",
       "      <td>1092.750000</td>\n",
       "      <td>1096.609985</td>\n",
       "      <td>1085.640015</td>\n",
       "      <td>1092.660034</td>\n",
       "      <td>1092.660034</td>\n",
       "      <td>0.0</td>\n",
       "    </tr>\n",
       "    <tr>\n",
       "      <th>1993-12-15</th>\n",
       "      <td>1104.459961</td>\n",
       "      <td>1119.829956</td>\n",
       "      <td>1104.459961</td>\n",
       "      <td>1116.089966</td>\n",
       "      <td>1116.089966</td>\n",
       "      <td>0.0</td>\n",
       "    </tr>\n",
       "    <tr>\n",
       "      <th>1993-12-16</th>\n",
       "      <td>1119.479980</td>\n",
       "      <td>1120.400024</td>\n",
       "      <td>1104.339966</td>\n",
       "      <td>1112.589966</td>\n",
       "      <td>1112.589966</td>\n",
       "      <td>0.0</td>\n",
       "    </tr>\n",
       "  </tbody>\n",
       "</table>\n",
       "</div>"
      ],
      "text/plain": [
       "                   Open         High          Low        Close    Adj Close  \\\n",
       "Date                                                                          \n",
       "1993-12-03  1018.729980  1027.410034  1018.729980  1023.919983  1023.919983   \n",
       "1993-12-06  1027.680054  1041.109985  1027.680054  1041.109985  1041.109985   \n",
       "1993-12-07  1046.089966  1063.250000  1046.089966  1063.250000  1063.250000   \n",
       "1993-12-08  1064.800049  1071.020020  1060.250000  1060.790039  1060.790039   \n",
       "1993-12-09  1059.939941  1067.339966  1058.180054  1067.339966  1067.339966   \n",
       "1993-12-10  1069.609985  1082.589966  1069.609985  1075.849976  1075.849976   \n",
       "1993-12-13  1082.729980  1097.979980  1080.229980  1090.349976  1090.349976   \n",
       "1993-12-14  1092.750000  1096.609985  1085.640015  1092.660034  1092.660034   \n",
       "1993-12-15  1104.459961  1119.829956  1104.459961  1116.089966  1116.089966   \n",
       "1993-12-16  1119.479980  1120.400024  1104.339966  1112.589966  1112.589966   \n",
       "\n",
       "            Volume  \n",
       "Date                \n",
       "1993-12-03     0.0  \n",
       "1993-12-06     0.0  \n",
       "1993-12-07     0.0  \n",
       "1993-12-08     0.0  \n",
       "1993-12-09     0.0  \n",
       "1993-12-10     0.0  \n",
       "1993-12-13     0.0  \n",
       "1993-12-14     0.0  \n",
       "1993-12-15     0.0  \n",
       "1993-12-16     0.0  "
      ]
     },
     "execution_count": 14,
     "metadata": {},
     "output_type": "execute_result"
    }
   ],
   "source": [
    "df2_klse.head(10)\n"
   ]
  },
  {
   "cell_type": "markdown",
   "id": "9f020fe2",
   "metadata": {},
   "source": [
    "# Understanding the Creation of a Date Range Using pd.date_range\n",
    "\n",
    "\n",
    "* The pd.date_range function in the pandas library is a powerful tool for generating a sequence of dates. It is commonly used in time series analysis and data manipulation tasks. This document explains the usage of pd.date_range with a specific example to create a business day frequency date range."
   ]
  },
  {
   "cell_type": "code",
   "execution_count": 15,
   "id": "b796edd5",
   "metadata": {},
   "outputs": [
    {
     "data": {
      "text/plain": [
       "DatetimeIndex(['2020-01-01', '2020-01-02', '2020-01-03', '2020-01-06',\n",
       "               '2020-01-07', '2020-01-08', '2020-01-09', '2020-01-10',\n",
       "               '2020-01-13', '2020-01-14', '2020-01-15', '2020-01-16',\n",
       "               '2020-01-17', '2020-01-20', '2020-01-21', '2020-01-22',\n",
       "               '2020-01-23', '2020-01-24', '2020-01-27', '2020-01-28',\n",
       "               '2020-01-29', '2020-01-30', '2020-01-31', '2020-02-03',\n",
       "               '2020-02-04', '2020-02-05', '2020-02-06', '2020-02-07',\n",
       "               '2020-02-10', '2020-02-11', '2020-02-12', '2020-02-13',\n",
       "               '2020-02-14', '2020-02-17', '2020-02-18', '2020-02-19',\n",
       "               '2020-02-20', '2020-02-21', '2020-02-24', '2020-02-25',\n",
       "               '2020-02-26', '2020-02-27', '2020-02-28', '2020-03-02',\n",
       "               '2020-03-03', '2020-03-04', '2020-03-05', '2020-03-06',\n",
       "               '2020-03-09', '2020-03-10', '2020-03-11', '2020-03-12',\n",
       "               '2020-03-13', '2020-03-16', '2020-03-17', '2020-03-18',\n",
       "               '2020-03-19', '2020-03-20', '2020-03-23', '2020-03-24',\n",
       "               '2020-03-25', '2020-03-26', '2020-03-27', '2020-03-30',\n",
       "               '2020-03-31', '2020-04-01', '2020-04-02', '2020-04-03',\n",
       "               '2020-04-06', '2020-04-07', '2020-04-08', '2020-04-09',\n",
       "               '2020-04-10', '2020-04-13', '2020-04-14', '2020-04-15',\n",
       "               '2020-04-16', '2020-04-17', '2020-04-20', '2020-04-21',\n",
       "               '2020-04-22', '2020-04-23', '2020-04-24', '2020-04-27',\n",
       "               '2020-04-28', '2020-04-29', '2020-04-30', '2020-05-01',\n",
       "               '2020-05-04', '2020-05-05', '2020-05-06', '2020-05-07',\n",
       "               '2020-05-08', '2020-05-11', '2020-05-12', '2020-05-13',\n",
       "               '2020-05-14', '2020-05-15', '2020-05-18', '2020-05-19'],\n",
       "              dtype='datetime64[ns]', freq='B')"
      ]
     },
     "execution_count": 15,
     "metadata": {},
     "output_type": "execute_result"
    }
   ],
   "source": [
    "rng = pd.date_range(start='1/1/2020', periods=100,freq='B')\n",
    "rng"
   ]
  },
  {
   "cell_type": "markdown",
   "id": "456e9efd",
   "metadata": {},
   "source": [
    "# Understanding the PeriodIndex: For Efficient Time Series Analysis\n",
    "\n",
    "\n",
    "* Why Analyze KLSE Data for the Year 2020?\n",
    " 1. Significant Events\n",
    "    * The year 2020 includes the COVID-19 pandemic, which had a profound impact on global financial markets, including KLSE.\n",
    "\n",
    "\n",
    " 2. Market Response\n",
    "    * Analyzing 2020 data helps understand how the KLSE responded to economic disruptions and uncertainties during the pandemic."
   ]
  },
  {
   "cell_type": "code",
   "execution_count": 16,
   "id": "fdde9977",
   "metadata": {},
   "outputs": [
    {
     "data": {
      "text/plain": [
       "Period('2020', 'A-DEC')"
      ]
     },
     "execution_count": 16,
     "metadata": {},
     "output_type": "execute_result"
    }
   ],
   "source": [
    "y = pd.Period('2020')\n",
    "y"
   ]
  },
  {
   "cell_type": "code",
   "execution_count": 17,
   "id": "9b9f9b96",
   "metadata": {},
   "outputs": [
    {
     "data": {
      "text/plain": [
       "['__add__',\n",
       " '__array_priority__',\n",
       " '__class__',\n",
       " '__delattr__',\n",
       " '__dict__',\n",
       " '__dir__',\n",
       " '__doc__',\n",
       " '__eq__',\n",
       " '__format__',\n",
       " '__ge__',\n",
       " '__getattribute__',\n",
       " '__gt__',\n",
       " '__hash__',\n",
       " '__init__',\n",
       " '__init_subclass__',\n",
       " '__le__',\n",
       " '__lt__',\n",
       " '__module__',\n",
       " '__ne__',\n",
       " '__new__',\n",
       " '__radd__',\n",
       " '__reduce__',\n",
       " '__reduce_ex__',\n",
       " '__repr__',\n",
       " '__rsub__',\n",
       " '__setattr__',\n",
       " '__setstate__',\n",
       " '__sizeof__',\n",
       " '__str__',\n",
       " '__sub__',\n",
       " '__subclasshook__',\n",
       " '__weakref__',\n",
       " '_add_offset',\n",
       " '_add_timedeltalike_scalar',\n",
       " '_dtype',\n",
       " '_from_ordinal',\n",
       " '_maybe_convert_freq',\n",
       " '_require_matching_freq',\n",
       " 'asfreq',\n",
       " 'day',\n",
       " 'day_of_week',\n",
       " 'day_of_year',\n",
       " 'dayofweek',\n",
       " 'dayofyear',\n",
       " 'days_in_month',\n",
       " 'daysinmonth',\n",
       " 'end_time',\n",
       " 'freq',\n",
       " 'freqstr',\n",
       " 'hour',\n",
       " 'is_leap_year',\n",
       " 'minute',\n",
       " 'month',\n",
       " 'now',\n",
       " 'ordinal',\n",
       " 'quarter',\n",
       " 'qyear',\n",
       " 'second',\n",
       " 'start_time',\n",
       " 'strftime',\n",
       " 'to_timestamp',\n",
       " 'week',\n",
       " 'weekday',\n",
       " 'weekofyear',\n",
       " 'year']"
      ]
     },
     "execution_count": 17,
     "metadata": {},
     "output_type": "execute_result"
    }
   ],
   "source": [
    "dir(y)\n"
   ]
  },
  {
   "cell_type": "code",
   "execution_count": 18,
   "id": "7913a4f5",
   "metadata": {},
   "outputs": [
    {
     "data": {
      "text/plain": [
       "Timestamp('2020-01-01 00:00:00')"
      ]
     },
     "execution_count": 18,
     "metadata": {},
     "output_type": "execute_result"
    }
   ],
   "source": [
    "y.start_time"
   ]
  },
  {
   "cell_type": "code",
   "execution_count": 19,
   "id": "a9f6d7e5",
   "metadata": {},
   "outputs": [
    {
     "data": {
      "text/plain": [
       "Timestamp('2020-12-31 23:59:59.999999999')"
      ]
     },
     "execution_count": 19,
     "metadata": {},
     "output_type": "execute_result"
    }
   ],
   "source": [
    "y.end_time"
   ]
  },
  {
   "cell_type": "markdown",
   "id": "f8656ada",
   "metadata": {},
   "source": [
    "Arithmetic operation on period objects : month, day, hor"
   ]
  },
  {
   "cell_type": "code",
   "execution_count": 20,
   "id": "4015036e",
   "metadata": {},
   "outputs": [
    {
     "data": {
      "text/plain": [
       "Period('2020-12', 'M')"
      ]
     },
     "execution_count": 20,
     "metadata": {},
     "output_type": "execute_result"
    }
   ],
   "source": [
    "m = pd.Period('2020-12',freq='M')\n",
    "m"
   ]
  },
  {
   "cell_type": "code",
   "execution_count": 21,
   "id": "b8ce2c0e",
   "metadata": {},
   "outputs": [
    {
     "data": {
      "text/plain": [
       "Period('2021-01', 'M')"
      ]
     },
     "execution_count": 21,
     "metadata": {},
     "output_type": "execute_result"
    }
   ],
   "source": [
    "m+1"
   ]
  },
  {
   "cell_type": "code",
   "execution_count": 22,
   "id": "3ad6d616",
   "metadata": {},
   "outputs": [
    {
     "data": {
      "text/plain": [
       "Period('2020-02-28', 'D')"
      ]
     },
     "execution_count": 22,
     "metadata": {},
     "output_type": "execute_result"
    }
   ],
   "source": [
    "d = pd.Period('2020-02-28',freq='D')\n",
    "d"
   ]
  },
  {
   "cell_type": "code",
   "execution_count": 23,
   "id": "8ec1aa35",
   "metadata": {},
   "outputs": [
    {
     "data": {
      "text/plain": [
       "Period('2020-02-29', 'D')"
      ]
     },
     "execution_count": 23,
     "metadata": {},
     "output_type": "execute_result"
    }
   ],
   "source": [
    "d+1\n"
   ]
  },
  {
   "cell_type": "code",
   "execution_count": 24,
   "id": "ada39168",
   "metadata": {},
   "outputs": [
    {
     "data": {
      "text/plain": [
       "Period('2020-02-28 23:00', 'H')"
      ]
     },
     "execution_count": 24,
     "metadata": {},
     "output_type": "execute_result"
    }
   ],
   "source": [
    "h = pd.Period('2020-02-28 23:00:00',freq='H')\n",
    "h"
   ]
  },
  {
   "cell_type": "code",
   "execution_count": 25,
   "id": "d8402b19",
   "metadata": {},
   "outputs": [
    {
     "data": {
      "text/plain": [
       "Timestamp('2020-02-28 23:00:00')"
      ]
     },
     "execution_count": 25,
     "metadata": {},
     "output_type": "execute_result"
    }
   ],
   "source": [
    "h.start_time"
   ]
  },
  {
   "cell_type": "code",
   "execution_count": 26,
   "id": "58b35c0b",
   "metadata": {},
   "outputs": [
    {
     "data": {
      "text/plain": [
       "Timestamp('2020-02-28 23:59:59.999999999')"
      ]
     },
     "execution_count": 26,
     "metadata": {},
     "output_type": "execute_result"
    }
   ],
   "source": [
    "h.end_time"
   ]
  },
  {
   "cell_type": "code",
   "execution_count": 27,
   "id": "9546e17f",
   "metadata": {},
   "outputs": [
    {
     "data": {
      "text/plain": [
       "Period('2020-02-28 11:00', 'H')"
      ]
     },
     "execution_count": 27,
     "metadata": {},
     "output_type": "execute_result"
    }
   ],
   "source": [
    "h-12\n"
   ]
  },
  {
   "cell_type": "code",
   "execution_count": 28,
   "id": "7f378928",
   "metadata": {},
   "outputs": [
    {
     "data": {
      "text/plain": [
       "Period('2020-02-28 11:00', 'H')"
      ]
     },
     "execution_count": 28,
     "metadata": {},
     "output_type": "execute_result"
    }
   ],
   "source": [
    "h+pd.offsets.Hour(-12)\n"
   ]
  },
  {
   "cell_type": "markdown",
   "id": "e3bef260",
   "metadata": {},
   "source": [
    " # Understanding the Quarterly Time Period\n",
    "\n",
    "1. Granular Insights\n",
    "\n",
    "    * Quarterly data provides more detailed insights compared to annual data, capturing seasonal trends and variations within the year.\n",
    "\n",
    "2. Timely Decision-Making\n",
    "    * Analyzing data on a quarterly basis allows for more timely and informed decision-making, as it reflects the latest market conditions and company performance.\n",
    "\n",
    "3. Performance Tracking\n",
    "    * Quarterly analysis helps track the performance and growth of a company or market segment over shorter intervals, facilitating quicker responses to emerging trends.\n",
    "\n"
   ]
  },
  {
   "cell_type": "code",
   "execution_count": 29,
   "id": "400eef5d",
   "metadata": {},
   "outputs": [
    {
     "data": {
      "text/plain": [
       "Period('2020Q1', 'Q-DEC')"
      ]
     },
     "execution_count": 29,
     "metadata": {},
     "output_type": "execute_result"
    }
   ],
   "source": [
    "q = pd.Period('2020Q1')\n",
    "q"
   ]
  },
  {
   "cell_type": "code",
   "execution_count": 30,
   "id": "2e45ccfc",
   "metadata": {},
   "outputs": [
    {
     "data": {
      "text/plain": [
       "Period('2020Q2', 'Q-DEC')"
      ]
     },
     "execution_count": 30,
     "metadata": {},
     "output_type": "execute_result"
    }
   ],
   "source": [
    "q+1"
   ]
  },
  {
   "cell_type": "code",
   "execution_count": 31,
   "id": "f97cb5e3",
   "metadata": {},
   "outputs": [
    {
     "data": {
      "text/plain": [
       "Period('2020-01', 'M')"
      ]
     },
     "execution_count": 31,
     "metadata": {},
     "output_type": "execute_result"
    }
   ],
   "source": [
    "q.asfreq('M',how='start')"
   ]
  },
  {
   "cell_type": "code",
   "execution_count": 32,
   "id": "f28a6fdb",
   "metadata": {},
   "outputs": [
    {
     "data": {
      "text/plain": [
       "Period('2020-03', 'M')"
      ]
     },
     "execution_count": 32,
     "metadata": {},
     "output_type": "execute_result"
    }
   ],
   "source": [
    "q.asfreq('M',how='end')"
   ]
  },
  {
   "cell_type": "code",
   "execution_count": 33,
   "id": "7635cdf2",
   "metadata": {},
   "outputs": [
    {
     "data": {
      "text/plain": [
       "Period('2021Q2', 'Q-DEC')"
      ]
     },
     "execution_count": 33,
     "metadata": {},
     "output_type": "execute_result"
    }
   ],
   "source": [
    "q2 = pd.Period('2021Q2')\n",
    "q2"
   ]
  },
  {
   "cell_type": "code",
   "execution_count": 34,
   "id": "54ada632",
   "metadata": {},
   "outputs": [
    {
     "data": {
      "text/plain": [
       "<5 * QuarterEnds: startingMonth=12>"
      ]
     },
     "execution_count": 34,
     "metadata": {},
     "output_type": "execute_result"
    }
   ],
   "source": [
    "q2-q"
   ]
  },
  {
   "cell_type": "markdown",
   "id": "72194823",
   "metadata": {},
   "source": [
    " # Understanding the DatetimeIndex and PeriodIndex\n",
    " \n",
    " \n",
    "1. DatetimeIndex: Collection of Timestamp objects, representing specific points in time.\n",
    "2. PeriodIndex: Collection of Period objects, representing spans of time.\n",
    "3. Timestamp: Single point in time with high precision.\n",
    "\n",
    "Key Differences\n",
    "\n",
    "* to_period(): Converts each timestamp to the corresponding period (ex: quarter, month). The index changes from DatetimeIndex to PeriodIndex.\n",
    "\n",
    "* to_timestamp(): Converts each period back to the starting timestamp of the period. The index changes from PeriodIndex back to DatetimeIndex."
   ]
  },
  {
   "cell_type": "code",
   "execution_count": 35,
   "id": "8d8c267e",
   "metadata": {
    "scrolled": true
   },
   "outputs": [
    {
     "data": {
      "text/plain": [
       "PeriodIndex(['2017Q1', '2017Q2', '2017Q3', '2017Q4', '2018Q1', '2018Q2',\n",
       "             '2018Q3', '2018Q4', '2019Q1', '2019Q2', '2019Q3', '2019Q4',\n",
       "             '2020Q1', '2020Q2', '2020Q3', '2020Q4', '2021Q1', '2021Q2',\n",
       "             '2021Q3', '2021Q4', '2022Q1'],\n",
       "            dtype='period[Q-DEC]')"
      ]
     },
     "execution_count": 35,
     "metadata": {},
     "output_type": "execute_result"
    }
   ],
   "source": [
    "idx = pd.period_range('2017','2022',freq='Q')\n",
    "idx"
   ]
  },
  {
   "cell_type": "code",
   "execution_count": 36,
   "id": "6a67c622",
   "metadata": {},
   "outputs": [
    {
     "data": {
      "text/plain": [
       "2017Q1    0.209567\n",
       "2017Q2    0.634733\n",
       "2017Q3   -1.236980\n",
       "2017Q4   -0.315102\n",
       "2018Q1   -0.439492\n",
       "2018Q2    1.488132\n",
       "2018Q3   -0.112181\n",
       "2018Q4   -0.112517\n",
       "2019Q1    1.344366\n",
       "2019Q2   -1.144583\n",
       "2019Q3   -0.366703\n",
       "2019Q4   -0.263808\n",
       "2020Q1   -1.051281\n",
       "2020Q2    1.603550\n",
       "2020Q3   -0.485822\n",
       "2020Q4   -0.259713\n",
       "2021Q1   -0.176116\n",
       "2021Q2   -0.679457\n",
       "2021Q3    2.002105\n",
       "2021Q4    0.558306\n",
       "2022Q1   -1.218601\n",
       "Freq: Q-DEC, dtype: float64"
      ]
     },
     "execution_count": 36,
     "metadata": {},
     "output_type": "execute_result"
    }
   ],
   "source": [
    "import numpy as np\n",
    "ps= pd.Series(np.random.randn(len(idx)),idx)\n",
    "ps"
   ]
  },
  {
   "cell_type": "code",
   "execution_count": 37,
   "id": "9fbb53f8",
   "metadata": {},
   "outputs": [
    {
     "data": {
      "text/plain": [
       "PeriodIndex(['2017Q1', '2017Q2', '2017Q3', '2017Q4', '2018Q1', '2018Q2',\n",
       "             '2018Q3', '2018Q4', '2019Q1', '2019Q2', '2019Q3', '2019Q4',\n",
       "             '2020Q1', '2020Q2', '2020Q3', '2020Q4', '2021Q1', '2021Q2',\n",
       "             '2021Q3', '2021Q4', '2022Q1'],\n",
       "            dtype='period[Q-DEC]')"
      ]
     },
     "execution_count": 37,
     "metadata": {},
     "output_type": "execute_result"
    }
   ],
   "source": [
    "ps.index\n"
   ]
  },
  {
   "cell_type": "code",
   "execution_count": 38,
   "id": "1328d768",
   "metadata": {},
   "outputs": [
    {
     "data": {
      "text/plain": [
       "2020Q1   -1.051281\n",
       "2020Q2    1.603550\n",
       "2020Q3   -0.485822\n",
       "2020Q4   -0.259713\n",
       "2021Q1   -0.176116\n",
       "2021Q2   -0.679457\n",
       "2021Q3    2.002105\n",
       "2021Q4    0.558306\n",
       "2022Q1   -1.218601\n",
       "Freq: Q-DEC, dtype: float64"
      ]
     },
     "execution_count": 38,
     "metadata": {},
     "output_type": "execute_result"
    }
   ],
   "source": [
    "ps['2020':'2023']"
   ]
  },
  {
   "cell_type": "code",
   "execution_count": 39,
   "id": "03a7747d",
   "metadata": {},
   "outputs": [
    {
     "data": {
      "text/plain": [
       "2017-01-01    0.209567\n",
       "2017-04-01    0.634733\n",
       "2017-07-01   -1.236980\n",
       "2017-10-01   -0.315102\n",
       "2018-01-01   -0.439492\n",
       "2018-04-01    1.488132\n",
       "2018-07-01   -0.112181\n",
       "2018-10-01   -0.112517\n",
       "2019-01-01    1.344366\n",
       "2019-04-01   -1.144583\n",
       "2019-07-01   -0.366703\n",
       "2019-10-01   -0.263808\n",
       "2020-01-01   -1.051281\n",
       "2020-04-01    1.603550\n",
       "2020-07-01   -0.485822\n",
       "2020-10-01   -0.259713\n",
       "2021-01-01   -0.176116\n",
       "2021-04-01   -0.679457\n",
       "2021-07-01    2.002105\n",
       "2021-10-01    0.558306\n",
       "2022-01-01   -1.218601\n",
       "Freq: QS-OCT, dtype: float64"
      ]
     },
     "execution_count": 39,
     "metadata": {},
     "output_type": "execute_result"
    }
   ],
   "source": [
    "pst=ps.to_timestamp()\n",
    "pst"
   ]
  },
  {
   "cell_type": "code",
   "execution_count": 40,
   "id": "25f50c96",
   "metadata": {},
   "outputs": [
    {
     "data": {
      "text/plain": [
       "DatetimeIndex(['2017-01-01', '2017-04-01', '2017-07-01', '2017-10-01',\n",
       "               '2018-01-01', '2018-04-01', '2018-07-01', '2018-10-01',\n",
       "               '2019-01-01', '2019-04-01', '2019-07-01', '2019-10-01',\n",
       "               '2020-01-01', '2020-04-01', '2020-07-01', '2020-10-01',\n",
       "               '2021-01-01', '2021-04-01', '2021-07-01', '2021-10-01',\n",
       "               '2022-01-01'],\n",
       "              dtype='datetime64[ns]', freq='QS-OCT')"
      ]
     },
     "execution_count": 40,
     "metadata": {},
     "output_type": "execute_result"
    }
   ],
   "source": [
    "pst.index"
   ]
  },
  {
   "cell_type": "code",
   "execution_count": 41,
   "id": "c0ed83b6",
   "metadata": {},
   "outputs": [
    {
     "data": {
      "text/plain": [
       "2017Q1    0.209567\n",
       "2017Q2    0.634733\n",
       "2017Q3   -1.236980\n",
       "2017Q4   -0.315102\n",
       "2018Q1   -0.439492\n",
       "2018Q2    1.488132\n",
       "2018Q3   -0.112181\n",
       "2018Q4   -0.112517\n",
       "2019Q1    1.344366\n",
       "2019Q2   -1.144583\n",
       "2019Q3   -0.366703\n",
       "2019Q4   -0.263808\n",
       "2020Q1   -1.051281\n",
       "2020Q2    1.603550\n",
       "2020Q3   -0.485822\n",
       "2020Q4   -0.259713\n",
       "2021Q1   -0.176116\n",
       "2021Q2   -0.679457\n",
       "2021Q3    2.002105\n",
       "2021Q4    0.558306\n",
       "2022Q1   -1.218601\n",
       "Freq: Q-DEC, dtype: float64"
      ]
     },
     "execution_count": 41,
     "metadata": {},
     "output_type": "execute_result"
    }
   ],
   "source": [
    "pst.to_period()"
   ]
  },
  {
   "cell_type": "code",
   "execution_count": 42,
   "id": "cf30cf19",
   "metadata": {},
   "outputs": [
    {
     "data": {
      "image/png": "[encoded data removed]",
      "text/plain": [
       "<Figure size 1200x600 with 1 Axes>"
      ]
     },
     "metadata": {},
     "output_type": "display_data"
    }
   ],
   "source": [
    "# Create the PeriodIndex\n",
    "idx = pd.period_range('2017Q1', '2022Q1', freq='Q')\n",
    "\n",
    "# Create the time series\n",
    "ts = pd.Series(ps, index=idx)\n",
    "\n",
    "# Convert the PeriodIndex to a DatetimeIndex\n",
    "ts.index = ts.index.to_timestamp()\n",
    "\n",
    "# Plot the time series\n",
    "plt.figure(figsize=(12, 6))\n",
    "plt.plot(ts, marker='o', linestyle='-')\n",
    "plt.title('Quarterly Data Time Series')\n",
    "plt.xlabel('Date')\n",
    "plt.ylabel('Value')\n",
    "plt.grid(True)\n",
    "plt.show()"
   ]
  },
  {
   "cell_type": "code",
   "execution_count": 46,
   "id": "a2799daf",
   "metadata": {},
   "outputs": [
    {
     "data": {
      "text/plain": [
       "DatetimeIndex(['1993-12-03', '1993-12-06', '1993-12-07', '1993-12-08',\n",
       "               '1993-12-09', '1993-12-10', '1993-12-13', '1993-12-14',\n",
       "               '1993-12-15', '1993-12-16',\n",
       "               ...\n",
       "               '2024-06-12', '2024-06-13', '2024-06-14', '2024-06-18',\n",
       "               '2024-06-19', '2024-06-20', '2024-06-21', '2024-06-24',\n",
       "               '2024-06-25', '2024-06-26'],\n",
       "              dtype='datetime64[ns]', name='Date', length=7708, freq=None)"
      ]
     },
     "execution_count": 46,
     "metadata": {},
     "output_type": "execute_result"
    }
   ],
   "source": [
    "df2_klse.index\n"
   ]
  },
  {
   "cell_type": "markdown",
   "id": "b61d91b0",
   "metadata": {},
   "source": [
    "# Understanding the Timezone Handling\n",
    "\n",
    "Converts timezone-naive timestamps to timezone-aware timestamps by assigning a timezone."
   ]
  },
  {
   "cell_type": "code",
   "execution_count": 44,
   "id": "a0ae028f",
   "metadata": {},
   "outputs": [
    {
     "data": {
      "text/plain": [
       "['Africa/Abidjan', 'Africa/Accra', 'Africa/Addis_Ababa', 'Africa/Algiers', 'Africa/Asmara', 'Africa/Asmera', 'Africa/Bamako', 'Africa/Bangui', 'Africa/Banjul', 'Africa/Bissau', 'Africa/Blantyre', 'Africa/Brazzaville', 'Africa/Bujumbura', 'Africa/Cairo', 'Africa/Casablanca', 'Africa/Ceuta', 'Africa/Conakry', 'Africa/Dakar', 'Africa/Dar_es_Salaam', 'Africa/Djibouti', 'Africa/Douala', 'Africa/El_Aaiun', 'Africa/Freetown', 'Africa/Gaborone', 'Africa/Harare', 'Africa/Johannesburg', 'Africa/Juba', 'Africa/Kampala', 'Africa/Khartoum', 'Africa/Kigali', 'Africa/Kinshasa', 'Africa/Lagos', 'Africa/Libreville', 'Africa/Lome', 'Africa/Luanda', 'Africa/Lubumbashi', 'Africa/Lusaka', 'Africa/Malabo', 'Africa/Maputo', 'Africa/Maseru', 'Africa/Mbabane', 'Africa/Mogadishu', 'Africa/Monrovia', 'Africa/Nairobi', 'Africa/Ndjamena', 'Africa/Niamey', 'Africa/Nouakchott', 'Africa/Ouagadougou', 'Africa/Porto-Novo', 'Africa/Sao_Tome', 'Africa/Timbuktu', 'Africa/Tripoli', 'Africa/Tunis', 'Africa/Windhoek', 'America/Adak', 'America/Anchorage', 'America/Anguilla', 'America/Antigua', 'America/Araguaina', 'America/Argentina/Buenos_Aires', 'America/Argentina/Catamarca', 'America/Argentina/ComodRivadavia', 'America/Argentina/Cordoba', 'America/Argentina/Jujuy', 'America/Argentina/La_Rioja', 'America/Argentina/Mendoza', 'America/Argentina/Rio_Gallegos', 'America/Argentina/Salta', 'America/Argentina/San_Juan', 'America/Argentina/San_Luis', 'America/Argentina/Tucuman', 'America/Argentina/Ushuaia', 'America/Aruba', 'America/Asuncion', 'America/Atikokan', 'America/Atka', 'America/Bahia', 'America/Bahia_Banderas', 'America/Barbados', 'America/Belem', 'America/Belize', 'America/Blanc-Sablon', 'America/Boa_Vista', 'America/Bogota', 'America/Boise', 'America/Buenos_Aires', 'America/Cambridge_Bay', 'America/Campo_Grande', 'America/Cancun', 'America/Caracas', 'America/Catamarca', 'America/Cayenne', 'America/Cayman', 'America/Chicago', 'America/Chihuahua', 'America/Ciudad_Juarez', 'America/Coral_Harbour', 'America/Cordoba', 'America/Costa_Rica', 'America/Creston', 'America/Cuiaba', 'America/Curacao', 'America/Danmarkshavn', 'America/Dawson', 'America/Dawson_Creek', 'America/Denver', 'America/Detroit', 'America/Dominica', 'America/Edmonton', 'America/Eirunepe', 'America/El_Salvador', 'America/Ensenada', 'America/Fort_Nelson', 'America/Fort_Wayne', 'America/Fortaleza', 'America/Glace_Bay', 'America/Godthab', 'America/Goose_Bay', 'America/Grand_Turk', 'America/Grenada', 'America/Guadeloupe', 'America/Guatemala', 'America/Guayaquil', 'America/Guyana', 'America/Halifax', 'America/Havana', 'America/Hermosillo', 'America/Indiana/Indianapolis', 'America/Indiana/Knox', 'America/Indiana/Marengo', 'America/Indiana/Petersburg', 'America/Indiana/Tell_City', 'America/Indiana/Vevay', 'America/Indiana/Vincennes', 'America/Indiana/Winamac', 'America/Indianapolis', 'America/Inuvik', 'America/Iqaluit', 'America/Jamaica', 'America/Jujuy', 'America/Juneau', 'America/Kentucky/Louisville', 'America/Kentucky/Monticello', 'America/Knox_IN', 'America/Kralendijk', 'America/La_Paz', 'America/Lima', 'America/Los_Angeles', 'America/Louisville', 'America/Lower_Princes', 'America/Maceio', 'America/Managua', 'America/Manaus', 'America/Marigot', 'America/Martinique', 'America/Matamoros', 'America/Mazatlan', 'America/Mendoza', 'America/Menominee', 'America/Merida', 'America/Metlakatla', 'America/Mexico_City', 'America/Miquelon', 'America/Moncton', 'America/Monterrey', 'America/Montevideo', 'America/Montreal', 'America/Montserrat', 'America/Nassau', 'America/New_York', 'America/Nipigon', 'America/Nome', 'America/Noronha', 'America/North_Dakota/Beulah', 'America/North_Dakota/Center', 'America/North_Dakota/New_Salem', 'America/Nuuk', 'America/Ojinaga', 'America/Panama', 'America/Pangnirtung', 'America/Paramaribo', 'America/Phoenix', 'America/Port-au-Prince', 'America/Port_of_Spain', 'America/Porto_Acre', 'America/Porto_Velho', 'America/Puerto_Rico', 'America/Punta_Arenas', 'America/Rainy_River', 'America/Rankin_Inlet', 'America/Recife', 'America/Regina', 'America/Resolute', 'America/Rio_Branco', 'America/Rosario', 'America/Santa_Isabel', 'America/Santarem', 'America/Santiago', 'America/Santo_Domingo', 'America/Sao_Paulo', 'America/Scoresbysund', 'America/Shiprock', 'America/Sitka', 'America/St_Barthelemy', 'America/St_Johns', 'America/St_Kitts', 'America/St_Lucia', 'America/St_Thomas', 'America/St_Vincent', 'America/Swift_Current', 'America/Tegucigalpa', 'America/Thule', 'America/Thunder_Bay', 'America/Tijuana', 'America/Toronto', 'America/Tortola', 'America/Vancouver', 'America/Virgin', 'America/Whitehorse', 'America/Winnipeg', 'America/Yakutat', 'America/Yellowknife', 'Antarctica/Casey', 'Antarctica/Davis', 'Antarctica/DumontDUrville', 'Antarctica/Macquarie', 'Antarctica/Mawson', 'Antarctica/McMurdo', 'Antarctica/Palmer', 'Antarctica/Rothera', 'Antarctica/South_Pole', 'Antarctica/Syowa', 'Antarctica/Troll', 'Antarctica/Vostok', 'Arctic/Longyearbyen', 'Asia/Aden', 'Asia/Almaty', 'Asia/Amman', 'Asia/Anadyr', 'Asia/Aqtau', 'Asia/Aqtobe', 'Asia/Ashgabat', 'Asia/Ashkhabad', 'Asia/Atyrau', 'Asia/Baghdad', 'Asia/Bahrain', 'Asia/Baku', 'Asia/Bangkok', 'Asia/Barnaul', 'Asia/Beirut', 'Asia/Bishkek', 'Asia/Brunei', 'Asia/Calcutta', 'Asia/Chita', 'Asia/Choibalsan', 'Asia/Chongqing', 'Asia/Chungking', 'Asia/Colombo', 'Asia/Dacca', 'Asia/Damascus', 'Asia/Dhaka', 'Asia/Dili', 'Asia/Dubai', 'Asia/Dushanbe', 'Asia/Famagusta', 'Asia/Gaza', 'Asia/Harbin', 'Asia/Hebron', 'Asia/Ho_Chi_Minh', 'Asia/Hong_Kong', 'Asia/Hovd', 'Asia/Irkutsk', 'Asia/Istanbul', 'Asia/Jakarta', 'Asia/Jayapura', 'Asia/Jerusalem', 'Asia/Kabul', 'Asia/Kamchatka', 'Asia/Karachi', 'Asia/Kashgar', 'Asia/Kathmandu', 'Asia/Katmandu', 'Asia/Khandyga', 'Asia/Kolkata', 'Asia/Krasnoyarsk', 'Asia/Kuala_Lumpur', 'Asia/Kuching', 'Asia/Kuwait', 'Asia/Macao', 'Asia/Macau', 'Asia/Magadan', 'Asia/Makassar', 'Asia/Manila', 'Asia/Muscat', 'Asia/Nicosia', 'Asia/Novokuznetsk', 'Asia/Novosibirsk', 'Asia/Omsk', 'Asia/Oral', 'Asia/Phnom_Penh', 'Asia/Pontianak', 'Asia/Pyongyang', 'Asia/Qatar', 'Asia/Qostanay', 'Asia/Qyzylorda', 'Asia/Rangoon', 'Asia/Riyadh', 'Asia/Saigon', 'Asia/Sakhalin', 'Asia/Samarkand', 'Asia/Seoul', 'Asia/Shanghai', 'Asia/Singapore', 'Asia/Srednekolymsk', 'Asia/Taipei', 'Asia/Tashkent', 'Asia/Tbilisi', 'Asia/Tehran', 'Asia/Tel_Aviv', 'Asia/Thimbu', 'Asia/Thimphu', 'Asia/Tokyo', 'Asia/Tomsk', 'Asia/Ujung_Pandang', 'Asia/Ulaanbaatar', 'Asia/Ulan_Bator', 'Asia/Urumqi', 'Asia/Ust-Nera', 'Asia/Vientiane', 'Asia/Vladivostok', 'Asia/Yakutsk', 'Asia/Yangon', 'Asia/Yekaterinburg', 'Asia/Yerevan', 'Atlantic/Azores', 'Atlantic/Bermuda', 'Atlantic/Canary', 'Atlantic/Cape_Verde', 'Atlantic/Faeroe', 'Atlantic/Faroe', 'Atlantic/Jan_Mayen', 'Atlantic/Madeira', 'Atlantic/Reykjavik', 'Atlantic/South_Georgia', 'Atlantic/St_Helena', 'Atlantic/Stanley', 'Australia/ACT', 'Australia/Adelaide', 'Australia/Brisbane', 'Australia/Broken_Hill', 'Australia/Canberra', 'Australia/Currie', 'Australia/Darwin', 'Australia/Eucla', 'Australia/Hobart', 'Australia/LHI', 'Australia/Lindeman', 'Australia/Lord_Howe', 'Australia/Melbourne', 'Australia/NSW', 'Australia/North', 'Australia/Perth', 'Australia/Queensland', 'Australia/South', 'Australia/Sydney', 'Australia/Tasmania', 'Australia/Victoria', 'Australia/West', 'Australia/Yancowinna', 'Brazil/Acre', 'Brazil/DeNoronha', 'Brazil/East', 'Brazil/West', 'CET', 'CST6CDT', 'Canada/Atlantic', 'Canada/Central', 'Canada/Eastern', 'Canada/Mountain', 'Canada/Newfoundland', 'Canada/Pacific', 'Canada/Saskatchewan', 'Canada/Yukon', 'Chile/Continental', 'Chile/EasterIsland', 'Cuba', 'EET', 'EST', 'EST5EDT', 'Egypt', 'Eire', 'Etc/GMT', 'Etc/GMT+0', 'Etc/GMT+1', 'Etc/GMT+10', 'Etc/GMT+11', 'Etc/GMT+12', 'Etc/GMT+2', 'Etc/GMT+3', 'Etc/GMT+4', 'Etc/GMT+5', 'Etc/GMT+6', 'Etc/GMT+7', 'Etc/GMT+8', 'Etc/GMT+9', 'Etc/GMT-0', 'Etc/GMT-1', 'Etc/GMT-10', 'Etc/GMT-11', 'Etc/GMT-12', 'Etc/GMT-13', 'Etc/GMT-14', 'Etc/GMT-2', 'Etc/GMT-3', 'Etc/GMT-4', 'Etc/GMT-5', 'Etc/GMT-6', 'Etc/GMT-7', 'Etc/GMT-8', 'Etc/GMT-9', 'Etc/GMT0', 'Etc/Greenwich', 'Etc/UCT', 'Etc/UTC', 'Etc/Universal', 'Etc/Zulu', 'Europe/Amsterdam', 'Europe/Andorra', 'Europe/Astrakhan', 'Europe/Athens', 'Europe/Belfast', 'Europe/Belgrade', 'Europe/Berlin', 'Europe/Bratislava', 'Europe/Brussels', 'Europe/Bucharest', 'Europe/Budapest', 'Europe/Busingen', 'Europe/Chisinau', 'Europe/Copenhagen', 'Europe/Dublin', 'Europe/Gibraltar', 'Europe/Guernsey', 'Europe/Helsinki', 'Europe/Isle_of_Man', 'Europe/Istanbul', 'Europe/Jersey', 'Europe/Kaliningrad', 'Europe/Kiev', 'Europe/Kirov', 'Europe/Kyiv', 'Europe/Lisbon', 'Europe/Ljubljana', 'Europe/London', 'Europe/Luxembourg', 'Europe/Madrid', 'Europe/Malta', 'Europe/Mariehamn', 'Europe/Minsk', 'Europe/Monaco', 'Europe/Moscow', 'Europe/Nicosia', 'Europe/Oslo', 'Europe/Paris', 'Europe/Podgorica', 'Europe/Prague', 'Europe/Riga', 'Europe/Rome', 'Europe/Samara', 'Europe/San_Marino', 'Europe/Sarajevo', 'Europe/Saratov', 'Europe/Simferopol', 'Europe/Skopje', 'Europe/Sofia', 'Europe/Stockholm', 'Europe/Tallinn', 'Europe/Tirane', 'Europe/Tiraspol', 'Europe/Ulyanovsk', 'Europe/Uzhgorod', 'Europe/Vaduz', 'Europe/Vatican', 'Europe/Vienna', 'Europe/Vilnius', 'Europe/Volgograd', 'Europe/Warsaw', 'Europe/Zagreb', 'Europe/Zaporozhye', 'Europe/Zurich', 'GB', 'GB-Eire', 'GMT', 'GMT+0', 'GMT-0', 'GMT0', 'Greenwich', 'HST', 'Hongkong', 'Iceland', 'Indian/Antananarivo', 'Indian/Chagos', 'Indian/Christmas', 'Indian/Cocos', 'Indian/Comoro', 'Indian/Kerguelen', 'Indian/Mahe', 'Indian/Maldives', 'Indian/Mauritius', 'Indian/Mayotte', 'Indian/Reunion', 'Iran', 'Israel', 'Jamaica', 'Japan', 'Kwajalein', 'Libya', 'MET', 'MST', 'MST7MDT', 'Mexico/BajaNorte', 'Mexico/BajaSur', 'Mexico/General', 'NZ', 'NZ-CHAT', 'Navajo', 'PRC', 'PST8PDT', 'Pacific/Apia', 'Pacific/Auckland', 'Pacific/Bougainville', 'Pacific/Chatham', 'Pacific/Chuuk', 'Pacific/Easter', 'Pacific/Efate', 'Pacific/Enderbury', 'Pacific/Fakaofo', 'Pacific/Fiji', 'Pacific/Funafuti', 'Pacific/Galapagos', 'Pacific/Gambier', 'Pacific/Guadalcanal', 'Pacific/Guam', 'Pacific/Honolulu', 'Pacific/Johnston', 'Pacific/Kanton', 'Pacific/Kiritimati', 'Pacific/Kosrae', 'Pacific/Kwajalein', 'Pacific/Majuro', 'Pacific/Marquesas', 'Pacific/Midway', 'Pacific/Nauru', 'Pacific/Niue', 'Pacific/Norfolk', 'Pacific/Noumea', 'Pacific/Pago_Pago', 'Pacific/Palau', 'Pacific/Pitcairn', 'Pacific/Pohnpei', 'Pacific/Ponape', 'Pacific/Port_Moresby', 'Pacific/Rarotonga', 'Pacific/Saipan', 'Pacific/Samoa', 'Pacific/Tahiti', 'Pacific/Tarawa', 'Pacific/Tongatapu', 'Pacific/Truk', 'Pacific/Wake', 'Pacific/Wallis', 'Pacific/Yap', 'Poland', 'Portugal', 'ROC', 'ROK', 'Singapore', 'Turkey', 'UCT', 'US/Alaska', 'US/Aleutian', 'US/Arizona', 'US/Central', 'US/East-Indiana', 'US/Eastern', 'US/Hawaii', 'US/Indiana-Starke', 'US/Michigan', 'US/Mountain', 'US/Pacific', 'US/Samoa', 'UTC', 'Universal', 'W-SU', 'WET', 'Zulu']"
      ]
     },
     "execution_count": 44,
     "metadata": {},
     "output_type": "execute_result"
    }
   ],
   "source": [
    "from pytz import all_timezones\n",
    "all_timezones"
   ]
  },
  {
   "cell_type": "code",
   "execution_count": 47,
   "id": "30d562a1",
   "metadata": {},
   "outputs": [
    {
     "ename": "TypeError",
     "evalue": "Cannot convert tz-naive timestamps, use tz_localize to localize",
     "output_type": "error",
     "traceback": [
      "\u001b[1;31m---------------------------------------------------------------------------\u001b[0m",
      "\u001b[1;31mTypeError\u001b[0m                                 Traceback (most recent call last)",
      "Cell \u001b[1;32mIn[47], line 1\u001b[0m\n\u001b[1;32m----> 1\u001b[0m df_timezone \u001b[38;5;241m=\u001b[39m \u001b[43mdf2_klse\u001b[49m\u001b[38;5;241;43m.\u001b[39;49m\u001b[43mindex\u001b[49m\u001b[38;5;241;43m.\u001b[39;49m\u001b[43mtz_convert\u001b[49m\u001b[43m(\u001b[49m\u001b[43mtz\u001b[49m\u001b[38;5;241;43m=\u001b[39;49m\u001b[38;5;124;43m'\u001b[39;49m\u001b[38;5;124;43mAsia/Kuala_Lumpur\u001b[39;49m\u001b[38;5;124;43m'\u001b[39;49m\u001b[43m)\u001b[49m\n\u001b[0;32m      2\u001b[0m df_timezone\n",
      "File \u001b[1;32mC:\\ProgramData\\anaconda3\\lib\\site-packages\\pandas\\core\\indexes\\datetimes.py:276\u001b[0m, in \u001b[0;36mDatetimeIndex.tz_convert\u001b[1;34m(self, tz)\u001b[0m\n\u001b[0;32m    274\u001b[0m \u001b[38;5;129m@doc\u001b[39m(DatetimeArray\u001b[38;5;241m.\u001b[39mtz_convert)\n\u001b[0;32m    275\u001b[0m \u001b[38;5;28;01mdef\u001b[39;00m \u001b[38;5;21mtz_convert\u001b[39m(\u001b[38;5;28mself\u001b[39m, tz) \u001b[38;5;241m-\u001b[39m\u001b[38;5;241m>\u001b[39m DatetimeIndex:\n\u001b[1;32m--> 276\u001b[0m     arr \u001b[38;5;241m=\u001b[39m \u001b[38;5;28;43mself\u001b[39;49m\u001b[38;5;241;43m.\u001b[39;49m\u001b[43m_data\u001b[49m\u001b[38;5;241;43m.\u001b[39;49m\u001b[43mtz_convert\u001b[49m\u001b[43m(\u001b[49m\u001b[43mtz\u001b[49m\u001b[43m)\u001b[49m\n\u001b[0;32m    277\u001b[0m     \u001b[38;5;28;01mreturn\u001b[39;00m \u001b[38;5;28mtype\u001b[39m(\u001b[38;5;28mself\u001b[39m)\u001b[38;5;241m.\u001b[39m_simple_new(arr, name\u001b[38;5;241m=\u001b[39m\u001b[38;5;28mself\u001b[39m\u001b[38;5;241m.\u001b[39mname)\n",
      "File \u001b[1;32mC:\\ProgramData\\anaconda3\\lib\\site-packages\\pandas\\core\\arrays\\datetimes.py:819\u001b[0m, in \u001b[0;36mDatetimeArray.tz_convert\u001b[1;34m(self, tz)\u001b[0m\n\u001b[0;32m    815\u001b[0m tz \u001b[38;5;241m=\u001b[39m timezones\u001b[38;5;241m.\u001b[39mmaybe_get_tz(tz)\n\u001b[0;32m    817\u001b[0m \u001b[38;5;28;01mif\u001b[39;00m \u001b[38;5;28mself\u001b[39m\u001b[38;5;241m.\u001b[39mtz \u001b[38;5;129;01mis\u001b[39;00m \u001b[38;5;28;01mNone\u001b[39;00m:\n\u001b[0;32m    818\u001b[0m     \u001b[38;5;66;03m# tz naive, use tz_localize\u001b[39;00m\n\u001b[1;32m--> 819\u001b[0m     \u001b[38;5;28;01mraise\u001b[39;00m \u001b[38;5;167;01mTypeError\u001b[39;00m(\n\u001b[0;32m    820\u001b[0m         \u001b[38;5;124m\"\u001b[39m\u001b[38;5;124mCannot convert tz-naive timestamps, use tz_localize to localize\u001b[39m\u001b[38;5;124m\"\u001b[39m\n\u001b[0;32m    821\u001b[0m     )\n\u001b[0;32m    823\u001b[0m \u001b[38;5;66;03m# No conversion since timestamps are all UTC to begin with\u001b[39;00m\n\u001b[0;32m    824\u001b[0m dtype \u001b[38;5;241m=\u001b[39m tz_to_dtype(tz, unit\u001b[38;5;241m=\u001b[39m\u001b[38;5;28mself\u001b[39m\u001b[38;5;241m.\u001b[39m_unit)\n",
      "\u001b[1;31mTypeError\u001b[0m: Cannot convert tz-naive timestamps, use tz_localize to localize"
     ]
    }
   ],
   "source": [
    "df_timezone = df2_klse.index.tz_convert(tz='Asia/Kuala_Lumpur')\n",
    "df_timezone"
   ]
  },
  {
   "cell_type": "code",
   "execution_count": null,
   "id": "80b83d8d",
   "metadata": {},
   "outputs": [],
   "source": [
    "# Assuming df2_klse has a DatetimeIndex or can be converted to DatetimeIndex\n",
    "# Localize timezone to UTC\n",
    "df2_klse.index = df2_klse.index.tz_localize(tz='UTC')\n",
    "\n",
    "# Convert timezone to 'Asia/Kuala_Lumpur'\n",
    "df_timezone = df2_klse.index.tz_convert(tz='Asia/Kuala_Lumpur')\n",
    "\n",
    "# Display the converted timezone\n",
    "print(df_timezone)"
   ]
  },
  {
   "cell_type": "code",
   "execution_count": null,
   "id": "5f512338",
   "metadata": {},
   "outputs": [],
   "source": [
    "dfkorea = df2_klse.index.tz_convert(tz='Asia/Seoul')\n",
    "dfkorea"
   ]
  },
  {
   "cell_type": "code",
   "execution_count": null,
   "id": "d93e47c3",
   "metadata": {},
   "outputs": [],
   "source": [
    "dfus = df2_klse.index.tz_convert(tz='US/Eastern')\n",
    "dfus"
   ]
  },
  {
   "cell_type": "code",
   "execution_count": null,
   "id": "68b1a37f",
   "metadata": {},
   "outputs": [],
   "source": []
  },
  {
   "cell_type": "code",
   "execution_count": null,
   "id": "d5dda7ec",
   "metadata": {},
   "outputs": [],
   "source": []
  }
 ],
 "metadata": {
  "kernelspec": {
   "display_name": "Python 3 (ipykernel)",
   "language": "python",
   "name": "python3"
  },
  "language_info": {
   "codemirror_mode": {
    "name": "ipython",
    "version": 3
   },
   "file_extension": ".py",
   "mimetype": "text/x-python",
   "name": "python",
   "nbconvert_exporter": "python",
   "pygments_lexer": "ipython3",
   "version": "3.10.9"
  }
 },
 "nbformat": 4,
 "nbformat_minor": 5
}
